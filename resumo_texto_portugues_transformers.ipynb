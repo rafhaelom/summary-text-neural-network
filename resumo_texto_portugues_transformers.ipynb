{
 "cells": [
  {
   "cell_type": "code",
   "execution_count": 1,
   "id": "c1c1afdb",
   "metadata": {},
   "outputs": [],
   "source": [
    "from transformers import AutoTokenizer, AutoModelForSeq2SeqLM\n",
    "\n",
    "from transformers import T5Tokenizer\n",
    "from transformers import T5Model, T5ForConditionalGeneration"
   ]
  },
  {
   "cell_type": "markdown",
   "id": "697af0bb",
   "metadata": {},
   "source": [
    "# Sumarização de textos"
   ]
  },
  {
   "cell_type": "markdown",
   "id": "22035ed9",
   "metadata": {},
   "source": [
    "## Textos para testes"
   ]
  },
  {
   "cell_type": "code",
   "execution_count": 2,
   "id": "f0affa72",
   "metadata": {},
   "outputs": [],
   "source": [
    "texto1 = '''\n",
    "“A tendência de queda da taxa de juros no Brasil é real, é visível”, disse Meirelles, que participou na capital americana de uma série de reuniões e encontros com banqueiros e investidores que aconteceram paralelamente às reuniões do Fundo Monetário Internacional (FMI) e do Banco Mundial (Bird) no fim de semana.\n",
    "Para o presidente do BC, a atual política econômica do governo e a manutenção da taxa de inflação dentro da meta são fatores que garantem queda na taxa de juros a longo prazo.\n",
    "“Mas é importante que nós não olhemos para isso apenas no curto prazo. Temos que olhar no médio e longo prazos”, disse Meirelles.\n",
    "Para ele, o trabalho que o Banco Central tem feito para conter a inflação dentro da meta vai gerar queda gradual da taxa de juros.\n",
    "BC do ano\n",
    "Neste domingo, Meirelles participou da cerimônia de entrega do prêmio “Banco Central do ano”, oferecido pela revista The Banker à instituição que preside.\n",
    "“Este é um sinal importante de reconhecimento do nosso trabalho, de que o Brasil está indo na direção correta”, disse ele.\n",
    "Segundo Meirelles, o Banco Central do Brasil está sendo percebido como uma instituição comprometida com a meta de inflação.\n",
    "“Isso tem um ganho importante, na medida em que os agentes formadores de preços começam a apostar que a inflação vai estar na meta, que isso é levado a sério no Brasil”, completou.\n",
    "O presidente do Banco Central disse ainda que a crise política brasileira não foi um assunto de interesse prioritário dos investidores que encontrou no fim de semana.\n",
    "'''"
   ]
  },
  {
   "cell_type": "code",
   "execution_count": 10,
   "id": "8d9b21fa",
   "metadata": {},
   "outputs": [],
   "source": [
    "texto2 = \"\"\"\n",
    "Os jurados do Tribunal do Júri de Ceilândia afastaram a acusação de tentativa de homicídio contra Francisco Manoel da Silva, 53, acusado de atropelar cinco crianças em Ceilândia, em maio de 2022. Com isso, ele foi condenado a 3 anos e 6 meses de prisão pelo crime de lesão corporal culposa, em regime aberto. Ele foi liberado e deixou o Centro de Detenção Provisória (CDP) na quinta-feira (26/1) passada.\\n\\nFrancisco foi denunciado pelo Ministério Público do Distrito Federal e Territórios (MPDFT) em junho de 2022 por homicídio tentado contra três crianças e por lesão corporal leve nas outras duas vítimas. O processo foi julgado pelo juiz presidente do Júri Lucas Sales da Costa.\\n\\nNa sentença, o pedreiro foi condenado a penas do Código de Trânsito Brasileiro (CTB) e será proibido de obter permissão ou habilitação para dirigir veículo automotor pelo prazo mínimo de um ano. Ele também teve os direitos políticos suspensos durante o período da condenação.\\n\\nNa época, Francisco foi preso em flagrante pelo atropelamento das cinco crianças. O pedreiro, que não tem carteira de habilitação (CNH) e estava bêbado, tentou fugir do local, mas foi contido e agredido por populares. \\n\\n\\n\\nFrancisco Manoel da Silva, 53, atropelou as cinco crianças enquanto esperavam na calçada para atravessar a faixa de pedestres. Policiais militares tiveram que conter a população, que pretendia linchar o motorista. Em exame no Instituto Médico Legal (IML), foi constatada a embriaguez do condutor, que afirmou à polícia ter consumido uma dose de uísque.\\n\\nEm audiência de custódia, a juíza Monike de Araújo Cardoso, do Núcleo de Custódia de Ceilândia, converteu em preventiva a prisão de Francisco. Durante o decorrer da audiência, o pedreiro afirmou à magistrada que tem endereço e renda fixa, e que \"nunca foi preso na vida\".\\n\\nAo ler a decisão, contudo, a juíza reiterou que na ficha criminal de Francisco há uma passagem por um outro delito de trânsito, em 2015, quando foi pego dirigindo sem habilitação. Informado sobre a manutenção da prisão, o autor dos atropelamentos não quis se pronunciar, deixando a sala com semblante cabisbaixo. A audiência aconteceu de forma virtual, em 24 de maio.\\n\\nEnquanto chegava no Instituto Abraçando Vidas para visitar o espaço, ainda com a cadeira de rodas, Ana Júlia, 7 anos, foi recebida com emoção por amigos que participam com ela das aulas de karatê. Os colegas comemoravam a sua volta para casa depois de 22 dias de incerteza. Ana Júlia, além de Bruna Raquel, 6 anos, e Sofia Valentina, 4 anos, ficou internada no Hospital de Base e no Hospital de Ceilândia.\\n\\nEm entrevista ao Correio, Glória Cheila Pereira, avó de três das cinco crianças atropeladas em 22 de maio, revela que as três meninas receberam alta na segunda-feira, 13 de junho. \"Estamos todos felizes. Agora, elas vão continuar o atendimento no hospital, voltando para os especialistas e se recuperando\", destacou.\\n\\nGlória ressalta que contou com a ajuda de muitos amigos e conhecidos. \"Ganhamos as cadeiras de rodas das meninas e a cadeira de banho. Todos têm ajudado muito. Principalmente nas orações para que elas ficassem bem. Não tenho dúvidas de que foi Deus que permitiu que elas saíssem todas vivas. Havia muita oração em várias igrejas por elas\", afirma.\\n\\nÀ época, a família esperava por Justiça. \"Ele (o motorista) precisa ficar detido. Foram cinco vidas que ele quase destruiu, de cinco crianças. E elas ainda se lembram do que aconteceu\", garante. Todas as crianças já receberam alta e se recuperam em casa.\\n\\nO formato de distribuição de notícias do Correio Braziliense pelo celular mudou. A partir de agora, as notícias chegarão diretamente pelo formato Comunidades, uma das inovações lançadas pelo WhatsApp. Não é preciso ser assinante para receber o serviço. Assim, o internauta pode ter, na palma da mão, matérias verificadas e com credibilidade. Para passar a receber as notícias do Correio, clique no link abaixo e entre na comunidade:\\n\\nApenas os administradores do grupo poderão mandar mensagens e saber quem são os integrantes da comunidade. Dessa forma, evitamos qualquer tipo de interação indevida. Caso tenha alguma dificuldade ao acessar o link, basta adicionar o número (61) 99555-2589 na sua lista de contatos.\n",
    "\"\"\""
   ]
  },
  {
   "cell_type": "code",
   "execution_count": null,
   "id": "dc41cefc",
   "metadata": {},
   "outputs": [],
   "source": []
  },
  {
   "cell_type": "code",
   "execution_count": 3,
   "id": "be0cf53f",
   "metadata": {},
   "outputs": [],
   "source": [
    "text = texto1"
   ]
  },
  {
   "cell_type": "markdown",
   "id": "628e3950",
   "metadata": {},
   "source": [
    "## Sumarização Abstrativa"
   ]
  },
  {
   "cell_type": "markdown",
   "id": "33946709",
   "metadata": {},
   "source": [
    "### Modelo"
   ]
  },
  {
   "cell_type": "markdown",
   "id": "4ced1ea0",
   "metadata": {},
   "source": [
    "#### phpaiola/ptt5-base-summ-cstnews"
   ]
  },
  {
   "cell_type": "code",
   "execution_count": 4,
   "id": "b43cc517",
   "metadata": {},
   "outputs": [],
   "source": [
    "tokenizer_pt_cstnews = AutoTokenizer.from_pretrained(\"phpaiola/ptt5-base-summ-xlsum\", use_fast=False)"
   ]
  },
  {
   "cell_type": "code",
   "execution_count": 5,
   "id": "f90c7453",
   "metadata": {},
   "outputs": [
    {
     "data": {
      "application/vnd.jupyter.widget-view+json": {
       "model_id": "803bd1aa0f9f4b91b150e54ae7cb1c3e",
       "version_major": 2,
       "version_minor": 0
      },
      "text/plain": [
       "Downloading (…)lve/main/config.json:   0%|          | 0.00/669 [00:00<?, ?B/s]"
      ]
     },
     "metadata": {},
     "output_type": "display_data"
    },
    {
     "name": "stderr",
     "output_type": "stream",
     "text": [
      "C:\\Users\\rafhael.martins\\Anaconda3\\envs\\portfolio\\lib\\site-packages\\huggingface_hub\\file_download.py:133: UserWarning: `huggingface_hub` cache-system uses symlinks by default to efficiently store duplicated files but your machine does not support them in C:\\Users\\rafhael.martins\\.cache\\huggingface\\hub. Caching files will still work but in a degraded version that might require more space on your disk. This warning can be disabled by setting the `HF_HUB_DISABLE_SYMLINKS_WARNING` environment variable. For more details, see https://huggingface.co/docs/huggingface_hub/how-to-cache#limitations.\n",
      "To support symlinks on Windows, you either need to activate Developer Mode or to run Python as an administrator. In order to see activate developer mode, see this article: https://docs.microsoft.com/en-us/windows/apps/get-started/enable-your-device-for-development\n",
      "  warnings.warn(message)\n"
     ]
    },
    {
     "data": {
      "application/vnd.jupyter.widget-view+json": {
       "model_id": "ebe7d22e628d47d781fe72357b50cb54",
       "version_major": 2,
       "version_minor": 0
      },
      "text/plain": [
       "Downloading pytorch_model.bin:   0%|          | 0.00/892M [00:00<?, ?B/s]"
      ]
     },
     "metadata": {},
     "output_type": "display_data"
    }
   ],
   "source": [
    "model_pt_cstnews = AutoModelForSeq2SeqLM.from_pretrained(\"phpaiola/ptt5-base-summ-cstnews\")"
   ]
  },
  {
   "cell_type": "code",
   "execution_count": null,
   "id": "05d90b74",
   "metadata": {},
   "outputs": [],
   "source": []
  },
  {
   "cell_type": "code",
   "execution_count": 6,
   "id": "db3d607a",
   "metadata": {},
   "outputs": [
    {
     "name": "stdout",
     "output_type": "stream",
     "text": [
      "<pad> Entenda que a tendência de queda da taxa de juros no Brasil é real. Para o presidente do BC, a atual política econômica do governo e a manutenção da inflação dentro da meta são fatores que garantem queda gradual da taxa. O Banco Central do Brasil está sendo percebido como uma instituição comprometida com a meta de inflação. Ele disse que a crise política brasileira não foi um assunto de interesse prioritário dos investidores.</s>\n"
     ]
    }
   ],
   "source": [
    "inputs = tokenizer_pt_cstnews.encode(text, max_length=512, truncation=True, return_tensors='pt')\n",
    "summary_ids_pt_xlsum = model_pt_cstnews.generate(inputs, max_length=256, min_length=32, num_beams=5, no_repeat_ngram_size=3, early_stopping=True)\n",
    "summary_pt_cstnews = tokenizer_pt_cstnews.decode(summary_ids_pt_xlsum[0])\n",
    "type(summary_pt_cstnews)"
   ]
  },
  {
   "cell_type": "code",
   "execution_count": 7,
   "id": "0d5bdfcf",
   "metadata": {},
   "outputs": [
    {
     "data": {
      "text/plain": [
       "str"
      ]
     },
     "execution_count": 7,
     "metadata": {},
     "output_type": "execute_result"
    }
   ],
   "source": [
    "type(summary_pt_cstnews)"
   ]
  },
  {
   "cell_type": "markdown",
   "id": "43ca84f3",
   "metadata": {},
   "source": [
    "#### phpaiola/ptt5-base-summ-xlsum"
   ]
  },
  {
   "cell_type": "code",
   "execution_count": 18,
   "id": "5c2ace98",
   "metadata": {},
   "outputs": [
    {
     "data": {
      "application/vnd.jupyter.widget-view+json": {
       "model_id": "4e46bb71fabf46fcb97754e917c68644",
       "version_major": 2,
       "version_minor": 0
      },
      "text/plain": [
       "Downloading (…)lve/main/config.json:   0%|          | 0.00/669 [00:00<?, ?B/s]"
      ]
     },
     "metadata": {},
     "output_type": "display_data"
    },
    {
     "name": "stderr",
     "output_type": "stream",
     "text": [
      "C:\\Users\\rafhael.martins\\Anaconda3\\envs\\portfolio\\lib\\site-packages\\huggingface_hub\\file_download.py:133: UserWarning: `huggingface_hub` cache-system uses symlinks by default to efficiently store duplicated files but your machine does not support them in C:\\Users\\rafhael.martins\\.cache\\huggingface\\hub. Caching files will still work but in a degraded version that might require more space on your disk. This warning can be disabled by setting the `HF_HUB_DISABLE_SYMLINKS_WARNING` environment variable. For more details, see https://huggingface.co/docs/huggingface_hub/how-to-cache#limitations.\n",
      "To support symlinks on Windows, you either need to activate Developer Mode or to run Python as an administrator. In order to see activate developer mode, see this article: https://docs.microsoft.com/en-us/windows/apps/get-started/enable-your-device-for-development\n",
      "  warnings.warn(message)\n"
     ]
    },
    {
     "data": {
      "application/vnd.jupyter.widget-view+json": {
       "model_id": "ac66e72191e84eb29a9382c2e1a6cdee",
       "version_major": 2,
       "version_minor": 0
      },
      "text/plain": [
       "Downloading pytorch_model.bin:   0%|          | 0.00/892M [00:00<?, ?B/s]"
      ]
     },
     "metadata": {},
     "output_type": "display_data"
    }
   ],
   "source": [
    "tokenizer_pt_xlsum = T5Tokenizer.from_pretrained('unicamp-dl/ptt5-base-portuguese-vocab')\n",
    "model_pt_xlsum = T5ForConditionalGeneration.from_pretrained('phpaiola/ptt5-base-summ-xlsum')"
   ]
  },
  {
   "cell_type": "code",
   "execution_count": 19,
   "id": "c082f3c4",
   "metadata": {},
   "outputs": [
    {
     "name": "stdout",
     "output_type": "stream",
     "text": [
      "<pad>Os jurados do Tribunal do Júri de Ceilândia afastaram a acusação de tentativa de homicídio contra Francisco Manoel da Silva, 53, acusado de atropelar cinco crianças em ceilândia, em maio de 2022. Ele foi condenado a 3 anos e 6 meses de prisão pelo crime de lesão corporal culposa, em regime aberto. Francisco foi denunciado pelo Ministério Público do Distrito Federal e Territórios (MPDFT) em junho de 2122 por homicídio tentado contra três crianças e por lesão corporal leve nas outras duas vítimas. A sentença condena o pedreiro a penas do Código de Trânsito Brasileiro (CTB) e será proibido de obter permissão ou habilitação para dirigir veículo automotor pelo prazo de um ano. Na época, Francisco foi preso em flagrante pelo atropelamento das cinco crianças. O pedreira, que não tem carteira de habilitação (CNH) e estava bêbado, tentou fugir do local, mas foi contido e agredido por populares. A polícia encontrou a embriaguez do condutor, que disse ter consumido uma dose de uísque. Em audiência de custódia, a juíza Monike de Araújo Cardoso converteu em preventiva a prisão de Francisco. No julgamento, o autor do atropelamento\n"
     ]
    }
   ],
   "source": [
    "inputs = tokenizer_pt_xlsum.encode(text, max_length=512, truncation=True, return_tensors='pt')\n",
    "summary_ids_pt_xlsum = model_pt_xlsum.generate(inputs, max_length=256, min_length=32, num_beams=5, no_repeat_ngram_size=3, early_stopping=True)\n",
    "summary_pt_xlsum = tokenizer_pt_xlsum.decode(summary_ids_pt_xlsum[0])\n",
    "print(summary_pt_xlsum)"
   ]
  },
  {
   "cell_type": "code",
   "execution_count": null,
   "id": "df7f9375",
   "metadata": {},
   "outputs": [],
   "source": []
  },
  {
   "cell_type": "code",
   "execution_count": null,
   "id": "5824d7eb",
   "metadata": {},
   "outputs": [],
   "source": []
  },
  {
   "cell_type": "code",
   "execution_count": null,
   "id": "65705009",
   "metadata": {},
   "outputs": [],
   "source": []
  },
  {
   "cell_type": "code",
   "execution_count": null,
   "id": "0a6602d4",
   "metadata": {},
   "outputs": [],
   "source": []
  },
  {
   "cell_type": "code",
   "execution_count": null,
   "id": "9d9895bd",
   "metadata": {},
   "outputs": [],
   "source": []
  },
  {
   "cell_type": "code",
   "execution_count": 4,
   "id": "f3f2e50f",
   "metadata": {},
   "outputs": [],
   "source": []
  },
  {
   "cell_type": "code",
   "execution_count": 18,
   "id": "171d505f",
   "metadata": {},
   "outputs": [],
   "source": []
  }
 ],
 "metadata": {
  "kernelspec": {
   "display_name": "Python 3 (ipykernel)",
   "language": "python",
   "name": "python3"
  },
  "language_info": {
   "codemirror_mode": {
    "name": "ipython",
    "version": 3
   },
   "file_extension": ".py",
   "mimetype": "text/x-python",
   "name": "python",
   "nbconvert_exporter": "python",
   "pygments_lexer": "ipython3",
   "version": "3.9.16"
  }
 },
 "nbformat": 4,
 "nbformat_minor": 5
}
